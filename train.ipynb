{
 "cells": [
  {
   "cell_type": "code",
   "execution_count": 1,
   "source": [
    "import os\n",
    "import cv2\n",
    "import toml\n",
    "import random\n",
    "import wandb\n",
    "from pycocotools.coco import COCO\n",
    "import numpy as np\n",
    "import torch\n",
    "import torch.nn as nn\n",
    "import skimage.io as io\n",
    "\n",
    "import matplotlib.pyplot as plt\n",
    "from torch.utils.data import DataLoader\n",
    "import torchvision.transforms.functional as tf\n",
    "\n",
    "from src.utils import set_seed\n",
    "from src.dataloader import COCODataset, Transformations\n",
    "from src.model import DeepLabV3\n",
    "from src.train_utils import train_model"
   ],
   "outputs": [],
   "metadata": {}
  },
  {
   "cell_type": "code",
   "execution_count": 2,
   "source": [
    "DATA_PATH = \"/home/glebk/Datasets/dataset_ocr\" \n"
   ],
   "outputs": [],
   "metadata": {}
  },
  {
   "cell_type": "code",
   "execution_count": 3,
   "source": [
    "cfg = toml.load(\"/home/glebk/VSProjects/projects/tmp/src/cfg.toml\")\n",
    "cfg"
   ],
   "outputs": [
    {
     "output_type": "execute_result",
     "data": {
      "text/plain": [
       "{'img_size': [200, 100],\n",
       " 'mask_size': [26, 13],\n",
       " 'p_hflip': 0.5,\n",
       " 'p_vflip': 0.5,\n",
       " 'wandb_logging': False,\n",
       " 'n_iter': 1000,\n",
       " 'n_iter_val': 100,\n",
       " 'lr': 0.001,\n",
       " 'bs': 2,\n",
       " 'save_best_val': True,\n",
       " 'clip_grad': False,\n",
       " 'checkpoint_path': './weights',\n",
       " 'n_classes': 3,\n",
       " 'n_blocks': [3, 4, 23, 3],\n",
       " 'atrous_rates': [6, 12, 18],\n",
       " 'multi_grids': [1, 2, 4],\n",
       " 'output_stride': 8}"
      ]
     },
     "metadata": {},
     "execution_count": 3
    }
   ],
   "metadata": {}
  },
  {
   "cell_type": "code",
   "execution_count": 4,
   "source": [
    "t_train = Transformations(cfg[\"img_size\"], cfg[\"p_hflip\"], cfg[\"p_vflip\"], cfg[\"mask_size\"])\n",
    "t_test = Transformations(cfg[\"img_size\"], 0, 0, cfg[\"mask_size\"])\n"
   ],
   "outputs": [],
   "metadata": {}
  },
  {
   "cell_type": "code",
   "execution_count": 5,
   "source": [
    "annot_file_train = os.path.join(DATA_PATH, \"train_tf\" + \".json\")\n",
    "coco_train = COCO(annot_file_train)\n",
    "dataset_train = COCODataset(coco_train, DATA_PATH, t_train)\n",
    "\n",
    "annot_file_test = os.path.join(DATA_PATH, \"test_tf\" + \".json\")\n",
    "coco_test = COCO(annot_file_test)\n",
    "dataset_test = COCODataset(coco_test, DATA_PATH, t_test)\n"
   ],
   "outputs": [
    {
     "output_type": "stream",
     "name": "stdout",
     "text": [
      "loading annotations into memory...\n",
      "Done (t=0.11s)\n",
      "creating index...\n",
      "index created!\n",
      "loading annotations into memory...\n",
      "Done (t=0.01s)\n",
      "creating index...\n",
      "index created!\n"
     ]
    }
   ],
   "metadata": {}
  },
  {
   "cell_type": "code",
   "execution_count": 6,
   "source": [
    "# idx = np.random.randint(len(dataset_train))\n",
    "# img, mask, resized_mask = dataset_train[idx]\n",
    "\n",
    "# fig, ax = plt.subplots(1, 3, figsize=(12, 12), sharey=False)\n",
    "# ax[0].imshow(tf.to_pil_image(img))\n",
    "# ax[1].imshow(mask[0])\n",
    "# ax[2].imshow(resized_mask[0])"
   ],
   "outputs": [],
   "metadata": {}
  },
  {
   "cell_type": "code",
   "execution_count": 7,
   "source": [
    "if cfg[\"wandb_logging\"]:\n",
    "    wandb.init(project=\"OCR\", entity=\"glebk\")\n",
    "    wandb.config = cfg\n"
   ],
   "outputs": [],
   "metadata": {}
  },
  {
   "cell_type": "code",
   "execution_count": 8,
   "source": [
    "train_loader = DataLoader(dataset_train, batch_size=cfg[\"bs\"], shuffle=True)\n",
    "val_loader = DataLoader(dataset_test, batch_size=cfg[\"bs\"], shuffle=False)\n",
    "\n",
    "print(len(train_loader))\n",
    "print(len(val_loader))\n"
   ],
   "outputs": [
    {
     "output_type": "stream",
     "name": "stdout",
     "text": [
      "429\n",
      "85\n"
     ]
    }
   ],
   "metadata": {}
  },
  {
   "cell_type": "code",
   "execution_count": 9,
   "source": [
    "device = \"cuda:0\" if torch.cuda.is_available() else \"cpu\"\n",
    "\n",
    "model = DeepLabV3(\n",
    "    n_classes=cfg[\"n_classes\"],\n",
    "    n_blocks=cfg[\"n_blocks\"],\n",
    "    atrous_rates=cfg[\"atrous_rates\"],\n",
    "    multi_grids=cfg[\"multi_grids\"],\n",
    "    output_stride=cfg[\"output_stride\"],\n",
    ").to(device)\n",
    "\n",
    "optimizer = torch.optim.AdamW(model.parameters(), lr=cfg[\"lr\"])\n",
    "scheduler = None\n",
    "# scheduler = torch.optim.lr_scheduler.StepLR(\n",
    "#     optimizer, step_size=2500, gamma=0.95, verbose=True\n",
    "# )\n",
    "\n",
    "loss = nn.CrossEntropyLoss()"
   ],
   "outputs": [],
   "metadata": {}
  },
  {
   "cell_type": "code",
   "execution_count": 10,
   "source": [
    "train_model(model, train_loader, val_loader, device, optimizer, scheduler, cfg, loss)\n"
   ],
   "outputs": [
    {
     "output_type": "stream",
     "name": "stderr",
     "text": [
      "  0%|          | 0/1000 [00:00<?, ?it/s]/home/glebk/VSProjects/venvs/torch_basic/lib/python3.8/site-packages/torch/nn/functional.py:718: UserWarning: Named tensors and all their associated APIs are an experimental feature and subject to change. Please do not use them for anything important until they are released as stable. (Triggered internally at  /pytorch/c10/core/TensorImpl.h:1156.)\n",
      "  return torch.max_pool2d(input, kernel_size, stride, padding, dilation, ceil_mode)\n",
      "loss: 0.31801, avg loss: 0.52713:  30%|██▉       | 299/1000 [01:11<01:06, 10.53it/s]"
     ]
    }
   ],
   "metadata": {}
  },
  {
   "cell_type": "code",
   "execution_count": null,
   "source": [],
   "outputs": [],
   "metadata": {}
  }
 ],
 "metadata": {
  "orig_nbformat": 4,
  "language_info": {
   "name": "python",
   "version": "3.8.10",
   "mimetype": "text/x-python",
   "codemirror_mode": {
    "name": "ipython",
    "version": 3
   },
   "pygments_lexer": "ipython3",
   "nbconvert_exporter": "python",
   "file_extension": ".py"
  },
  "kernelspec": {
   "name": "python3",
   "display_name": "Python 3.8.10 64-bit ('torch_basic': venv)"
  },
  "interpreter": {
   "hash": "b32d14b53c046e68e230eae08b7516b3994bc8fa2ce493f5de8b848006bba55d"
  }
 },
 "nbformat": 4,
 "nbformat_minor": 2
}